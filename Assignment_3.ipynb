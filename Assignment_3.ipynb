{
 "cells": [
  {
   "cell_type": "markdown",
   "metadata": {},
   "source": [
    "## 1. Calculate Area of a Circle"
   ]
  },
  {
   "cell_type": "markdown",
   "metadata": {},
   "source": [
    "#### Write a Python program which accepts the radius of a circle from the user and compute the area.\n",
    "###### Program Console Sample Output 1:\n",
    "###### Input Radius: 0.5\n",
    "###### Area of Circle with radius 0.5 is 0.7853981634"
   ]
  },
  {
   "cell_type": "code",
   "execution_count": 4,
   "metadata": {},
   "outputs": [
    {
     "name": "stdout",
     "output_type": "stream",
     "text": [
      "Enter the radius of the circle: 4\n",
      "50.352\n"
     ]
    }
   ],
   "source": [
    "radius = int(input(\"Enter the radius of the circle: \"))\n",
    "area = (3.147 * radius ** 2)\n",
    "print (str(area))"
   ]
  },
  {
   "cell_type": "markdown",
   "metadata": {},
   "source": [
    "## 2. Check Number either positive, negative or zero"
   ]
  },
  {
   "cell_type": "markdown",
   "metadata": {},
   "source": [
    "#### Write a Python program to check if a number is positive, negative or zero\n",
    "###### Program Console Sample Output 1:\n",
    "###### Enter Number: -1\n",
    "##### Negative Number Entered\n",
    "###### Program Console Sample Output 2:\n",
    "##### Integer: 3\n",
    "##### Positive Number Entered\n",
    "###### Program Console Sample Output 3:\n",
    "##### Integer: 0\n",
    "###### Zero Entered"
   ]
  },
  {
   "cell_type": "code",
   "execution_count": 9,
   "metadata": {},
   "outputs": [
    {
     "name": "stdout",
     "output_type": "stream",
     "text": [
      "Enter a number 3\n",
      "Positive Number Entered\n"
     ]
    }
   ],
   "source": [
    "val = int( input( \"Enter a number \"))\n",
    "if val == 0:\n",
    "    print ( \"Zero entered\" )\n",
    "elif val <= 0:\n",
    "    print( \"Negative Number Entered\" )\n",
    "else:\n",
    "    print( \"Positive Number Entered\" )"
   ]
  },
  {
   "cell_type": "markdown",
   "metadata": {},
   "source": [
    "## 3. Divisibility Check of two numbers"
   ]
  },
  {
   "cell_type": "markdown",
   "metadata": {},
   "source": [
    "#### Write a Python program to check whether a number is completely divisible by another number. Accept two integer values form the user\n",
    "##### Program Console Sample Output 1:\n",
    "###### Enter numerator: 4\n",
    "###### Enter Denominator: 2\n",
    "##### Number 4 is Completely divisible by 2\n",
    "###### Program Console Sample Output 2:\n",
    "##### Enter numerator: 7\n",
    "\n",
    "##### Enter Denominator: 4\n",
    "###### Number 7 is not Completely divisible by 4"
   ]
  },
  {
   "cell_type": "code",
   "execution_count": 13,
   "metadata": {},
   "outputs": [
    {
     "name": "stdout",
     "output_type": "stream",
     "text": [
      "Enter a numerator: 7\n",
      "Enter a denominator: 4\n",
      "Number 7 is not completely divisible by 4\n"
     ]
    }
   ],
   "source": [
    "num1 = int( input( \"Enter a numerator: \" ))\n",
    "num2 = int( input( \"Enter a denominator: \" ))\n",
    "ans =( num1 % num2 )\n",
    "if ans == 0:\n",
    "    print( f\"Number {num1} is completely divisible by {num2}\" )\n",
    "else:\n",
    "    print( f\"Number {num1} is not completely divisible by {num2}\" )"
   ]
  },
  {
   "cell_type": "markdown",
   "metadata": {},
   "source": [
    "## 4. Calculate Volume of a sphere"
   ]
  },
  {
   "cell_type": "markdown",
   "metadata": {},
   "source": [
    "##### Write a Python program to get the volume of a sphere, please take the radius as input from user"
   ]
  },
  {
   "cell_type": "markdown",
   "metadata": {},
   "source": [
    "##### Program Console Output:\n",
    "##### Enter Radius of Sphere: 1\n",
    "###### Volume of the Sphere with Radius 1 is 4.18"
   ]
  },
  {
   "cell_type": "code",
   "execution_count": 14,
   "metadata": {},
   "outputs": [
    {
     "name": "stdout",
     "output_type": "stream",
     "text": [
      "Enter the radius of the sphere: 6\n",
      "906.3359999999999\n"
     ]
    }
   ],
   "source": [
    "radius = float(input( \"Enter the radius of the sphere: \"))\n",
    "volume = (4 / 3 * 3.147 * radius ** 3)\n",
    "print(f'{volume}')"
   ]
  },
  {
   "cell_type": "markdown",
   "metadata": {},
   "source": [
    "## 5. Copy string n times\n",
    "#### Write a Python program to get a string which is n (non-negative integer) copies of a given string.\n",
    "##### Program Console Output:\n",
    "##### Enter String: Hi\n",
    "###### How many copies of String you need: 4\n",
    "###### 4 Copies of Hi are HiHiHiHi"
   ]
  },
  {
   "cell_type": "code",
   "execution_count": 15,
   "metadata": {},
   "outputs": [
    {
     "name": "stdout",
     "output_type": "stream",
     "text": [
      "Enter a phrase: Emad Khan \n",
      "Enter the number of copies required: 6\n",
      "Emad Khan Emad Khan Emad Khan Emad Khan Emad Khan Emad Khan \n"
     ]
    }
   ],
   "source": [
    "phrase = ( input( \"Enter a phrase: \" ) )\n",
    "times = int(input(\"Enter the number of copies required: \"))\n",
    "print((phrase)*(times))"
   ]
  },
  {
   "cell_type": "markdown",
   "metadata": {},
   "source": [
    "## 6. Check if number is Even or Odd\n",
    "### Write a Python program to find whether a given number (accept from the user) is even or odd, print out an appropriate message to the user\n",
    "#### Program Console Output 1:\n",
    "##### Enter Number: 4\n",
    "###### 4 is Even\n",
    "#### Program Console Output 2:\n",
    "##### Enter Number: 9\n",
    "###### 9 is Odd"
   ]
  },
  {
   "cell_type": "code",
   "execution_count": 18,
   "metadata": {},
   "outputs": [
    {
     "name": "stdout",
     "output_type": "stream",
     "text": [
      "Enter a number: 535\n",
      "535 is odd\n"
     ]
    }
   ],
   "source": [
    "num =int( input( \"Enter a number: \" ) )\n",
    "if num % 2 == 0:\n",
    "    print(f\"{num} is even\")\n",
    "else:\n",
    "    print(f\"{num} is odd\")"
   ]
  },
  {
   "cell_type": "markdown",
   "metadata": {},
   "source": [
    "## 7. Vowel Tester\n",
    "### Write a Python program to test whether a passed letter is a vowel or not\n",
    "#### Program Console Output 1:\n",
    "##### Enter a character: A\n",
    "###### Letter A is Vowel\n",
    "#### Program Console Output 2:\n",
    "##### Enter a character: e\n",
    "###### Letter e is Vowel\n",
    "#### Program Console Output 2:\n",
    "##### Enter a character: N\n",
    "###### Letter N is not Vowel"
   ]
  },
  {
   "cell_type": "code",
   "execution_count": 22,
   "metadata": {},
   "outputs": [
    {
     "name": "stdout",
     "output_type": "stream",
     "text": [
      "Enter a letter r\n",
      "Letter is r is a consonant\n"
     ]
    }
   ],
   "source": [
    "a = input(\"Enter a letter \")\n",
    "if a == 'a' or a == 'A' or a == 'e' or a == 'E' or a == 'i' or a == 'I' or a == 'o' or a == 'O' or a == 'u' or a == 'U' :\n",
    "    print( f\"Letter is {a} is a vowel\" )\n",
    "else:\n",
    "    print( f\"Letter is {a} is a consonant\" )\n"
   ]
  },
  {
   "cell_type": "markdown",
   "metadata": {},
   "source": [
    "## 8. Triangle area\n",
    "### Write a Python program that will accept the base and height of a triangle and compute the area\n",
    "###### Reference:\n",
    "https://www.mathgoodies.com/lessons/vol1/area_triangle"
   ]
  },
  {
   "cell_type": "code",
   "execution_count": 27,
   "metadata": {},
   "outputs": [
    {
     "name": "stdout",
     "output_type": "stream",
     "text": [
      "Enter height of a triangle: 6\n",
      "Enter base of a triangle: 7\n",
      "Area of the triangle is 21.0\n"
     ]
    }
   ],
   "source": [
    "h = float( input( \"Enter height of a triangle: \" ) )\n",
    "b = float( input( \"Enter base of a triangle: \" ) )\n",
    "print( ( f'Area of the triangle is { h * b / 2 }' ) )"
   ]
  },
  {
   "cell_type": "markdown",
   "metadata": {},
   "source": [
    "## 9. Calculate Interest\n",
    "### Write a Python program to compute the future value of a specified principal amount, rate of interest, and a number of years\n",
    "#### Program Console Sample 1:\n",
    "##### Please enter principal amount: 10000\n",
    "###### Please Enter Rate of interest in %: 0.1\n",
    "###### Enter number of years for investment: 5\n",
    "###### After 5 years your principal amount 10000 over an interest rate of 0.1 % will be 16105.1"
   ]
  },
  {
   "cell_type": "code",
   "execution_count": 28,
   "metadata": {},
   "outputs": [
    {
     "name": "stdout",
     "output_type": "stream",
     "text": [
      "Enter the Principal amount in Rs: 6\n",
      "Enter the rate of interest: 7\n",
      "Enter the number of years of investment: 3\n",
      "The total amount payable after 3.0 years will be Rs 127.0\n"
     ]
    }
   ],
   "source": [
    "p = float(input(\"Enter the Principal amount in Rs: \"))\n",
    "i = float(input(\"Enter the rate of interest: \"))\n",
    "t = float(input(\"Enter the number of years of investment: \"))\n",
    "a = ( 1 + p * i * t )\n",
    "print( f'The total amount payable after {t} years will be Rs {a}' )"
   ]
  },
  {
   "cell_type": "markdown",
   "metadata": {},
   "source": [
    "## 10. Euclidean distance\n",
    "### write a Python program to compute the distance between the points (x1, y1) and (x2, y2).\n",
    "#### Program Console Sample 1:\n",
    "###### Enter Co-ordinate for x1: 2\n",
    "###### Enter Co-ordinate for x2: 4\n",
    "###### Enter Co-ordinate for y1: 4\n",
    "###### Enter Co-ordinate for y2: 4\n",
    "###### Distance between points (2, 4) and (4, 4) is 2"
   ]
  },
  {
   "cell_type": "markdown",
   "metadata": {},
   "source": [
    "###### Reference:\n",
    "https://en.wikipedia.org/wiki/Euclidean_distance"
   ]
  },
  {
   "cell_type": "code",
   "execution_count": 31,
   "metadata": {},
   "outputs": [
    {
     "name": "stdout",
     "output_type": "stream",
     "text": [
      "Enter point 1 coordinates \n",
      "Enter the value of x1: 4\n",
      "Enter the value of y1: 6\n",
      "Enter point 2 coordinates \n",
      "Enter the value of x2: 5\n",
      "Enter the value of y2: 3\n",
      "distance between point (4 , 6) and point (5, 3) is: 127.0\n"
     ]
    }
   ],
   "source": [
    "import math\n",
    "\n",
    "x1 = int( input( \"Enter point 1 coordinates \\nEnter the value of x1: \" ) )\n",
    "y1 = int( input( \"Enter the value of y1: \" ) )\n",
    "x2 = int( input( \"Enter point 2 coordinates \\nEnter the value of x2: \" ) )\n",
    "y2 = int( input( \"Enter the value of y2: \" ) )\n",
    "ans = math.sqrt ( ( x2 - x1 ) ** 2 + ( y2 - y1 ) ** 2 )\n",
    "print(f\"distance between point ({x1} , {y1}) and point ({x2}, {y2}) is: {a}\")"
   ]
  },
  {
   "cell_type": "markdown",
   "metadata": {},
   "source": [
    "## 11. Feet to Centimeter Converter\n",
    "### Write a Python program to convert height in feet to centimetres.\n",
    "##### Program Console Sample 1:\n",
    "###### Enter Height in Feet: 5\n",
    "###### There are 152.4 Cm in 5 ft\n",
    "###### Reference:\n",
    "https://www.rapidtables.com/convert/length/feet-to-cm.html"
   ]
  },
  {
   "cell_type": "code",
   "execution_count": 32,
   "metadata": {},
   "outputs": [
    {
     "name": "stdout",
     "output_type": "stream",
     "text": [
      "Enter height in feet: 6\n",
      "72.0 cm\n"
     ]
    }
   ],
   "source": [
    "f = float( input( \"Enter height in feet: \" ) )\n",
    "print(f\"{f * 12} cm\")"
   ]
  },
  {
   "cell_type": "markdown",
   "metadata": {},
   "source": [
    "## 12. BMI Calculator\n",
    "### Write a Python program to calculate body mass index\n",
    "##### Program Console Sample 1:\n",
    "###### Enter Height in Cm: 180\n",
    "###### Enter Weight in Kg: 75\n",
    "###### Your BMI is 23.15"
   ]
  },
  {
   "cell_type": "code",
   "execution_count": 34,
   "metadata": {},
   "outputs": [
    {
     "name": "stdout",
     "output_type": "stream",
     "text": [
      " Enter height in cm: 72\n",
      " Enter weight in kg: 76\n",
      "1.0555555555555556 kg/m^2\n"
     ]
    }
   ],
   "source": [
    "height = float( input( \" Enter height in cm: \" ) )\n",
    "weight = float( input( \" Enter weight in kg: \" ) )\n",
    "bmi = weight / height\n",
    "print ( f\"{bmi} kg/m^2\" )"
   ]
  },
  {
   "cell_type": "markdown",
   "metadata": {},
   "source": [
    "## 13. Sum of n Positive Integers\n",
    "### Write a python program to sum of the first n positive integers\n",
    "#### Program Console Sample 1:\n",
    "###### Enter value of n: 5\n",
    "###### Sum of n Positive integers till 5 is 15"
   ]
  },
  {
   "cell_type": "code",
   "execution_count": 37,
   "metadata": {},
   "outputs": [
    {
     "name": "stdout",
     "output_type": "stream",
     "text": [
      "Enter a number 5\n",
      "The sum of the first 5 numbers is: 15\n"
     ]
    }
   ],
   "source": [
    "N = int(input(\"Enter a number \"))\n",
    "sum = 0\n",
    "for i in range(1,N+1):\n",
    "    sum += i\n",
    "print( f\"The sum of the first {N} numbers is: {sum}\")"
   ]
  },
  {
   "cell_type": "markdown",
   "metadata": {},
   "source": [
    "## 14. Digits Sum of a Number\n",
    "### Write a Python program to calculate the sum of the digits in an integer\n",
    "#### Program Console Sample 1:\n",
    "##### Enter a number: 15\n",
    "###### Sum of 1 + 5 is 6\n",
    "#### Program Console Sample 2:\n",
    "##### Enter a number: 1234\n",
    "###### Sum of 1 + 2 + 3 + 4 is 10"
   ]
  },
  {
   "cell_type": "code",
   "execution_count": 40,
   "metadata": {},
   "outputs": [
    {
     "name": "stdout",
     "output_type": "stream",
     "text": [
      "Enter a number: 7\n",
      "Sum of 1 + 2 + 3 + 4 + 5 + 6 + 7 is 28\n"
     ]
    }
   ],
   "source": [
    "num = int( input( \"Enter a number: \" ) )\n",
    "sum = 0\n",
    "print('Sum of', end='')\n",
    "for i in range(1,num+1):\n",
    "    if i == num:\n",
    "        print(f' {i}', end='')\n",
    "    else:\n",
    "        print(f' {i} +', end='')\n",
    "    sum += i\n",
    "print(f' is {sum}')"
   ]
  }
 ],
 "metadata": {
  "kernelspec": {
   "display_name": "Python 3",
   "language": "python",
   "name": "python3"
  },
  "language_info": {
   "codemirror_mode": {
    "name": "ipython",
    "version": 3
   },
   "file_extension": ".py",
   "mimetype": "text/x-python",
   "name": "python",
   "nbconvert_exporter": "python",
   "pygments_lexer": "ipython3",
   "version": "3.7.3"
  }
 },
 "nbformat": 4,
 "nbformat_minor": 2
}
